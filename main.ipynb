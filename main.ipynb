{
 "cells": [
  {
   "cell_type": "code",
   "execution_count": 46,
   "metadata": {},
   "outputs": [
    {
     "name": "stdout",
     "output_type": "stream",
     "text": [
      "54551\n"
     ]
    }
   ],
   "source": [
    "import requests\n",
    "from bs4 import BeautifulSoup\n",
    "\n",
    "new = [] #紀錄最新價錢 個別存放momo、yahoo、pchome三個平台的價格\n",
    "header = {\"User-Agent\":\"Mozilla/5.0 (Windows NT 10.0; Win64; x64) AppleWebKit/537.36 (KHTML, like Gecko) Chrome/114.0.0.0 Safari/537.36\"}\n",
    "\n",
    "#=========用bs4爬取momo===============\n",
    "url = \"https://www.momoshop.com.tw/goods/GoodsDetail.jsp?i_code=11421605&Area=search&mdiv=403&oid=1_1&cid=index&kw=RAS-50NT\"\n",
    "momo = requests.get(url, headers = header)\n",
    "#print(r.status_code) \n",
    "\n",
    "soup = BeautifulSoup(momo.text, \"html.parser\")\n",
    "\n",
    "price_momo = soup.find(\"span\",{\"class\":\"seoPrice\"}).text\n",
    "price_momo = price_momo.replace(\",\",\"\")\n",
    "new.append(int(price_momo))\n",
    "print(price_momo) # 印出抓到的價錢"
   ]
  },
  {
   "cell_type": "code",
   "execution_count": 47,
   "metadata": {},
   "outputs": [
    {
     "name": "stdout",
     "output_type": "stream",
     "text": [
      "54552\n"
     ]
    }
   ],
   "source": [
    "#=========用bs4爬取yahoo===============\n",
    "url = \"https://tw.buy.yahoo.com/gdsale/HITACHI%E6%97%A5%E7%AB%8B8-5%E5%9D%AA-1%E7%B4%9A%E8%AE%8A%E9%A0%BB%E5%86%B7%E6%9A%96%E5%86%B7%E6%B0%A3-RAC-50NP-RAS-50NT-%E5%B0%8A%E6%A6%AER32%E5%86%B7%E5%AA%92-9855152.html\"\n",
    "yahoo = requests.get(url,headers = header)\n",
    "soup = BeautifulSoup(yahoo.text, \"html.parser\")\n",
    "price_yahoo = soup.find(\"div\",{\"class\":\"HeroInfo__mainPrice___1xP9H\"}).text\n",
    "price_yahoo = price_yahoo.replace(\"$\",\"\")\n",
    "price_yahoo = price_yahoo.replace(\",\",\"\")\n",
    "new.append(int(price_yahoo))\n",
    "print(price_yahoo) # 印出抓到的價錢"
   ]
  },
  {
   "cell_type": "code",
   "execution_count": 48,
   "metadata": {},
   "outputs": [
    {
     "name": "stdout",
     "output_type": "stream",
     "text": [
      "55791\n"
     ]
    }
   ],
   "source": [
    "#=========用selenium爬取pchome===============\n",
    "from selenium import webdriver\n",
    "from selenium.webdriver.common.by import By\n",
    "import os\n",
    "\n",
    "# 將驅動程序的路徑添加到系統路徑中\n",
    "chrome_driver_path = 'C:/Users/小胖/Desktopchromedriver.exe'\n",
    "os.environ[\"PATH\"]+= os.pathsep + chrome_driver_path\n",
    "\n",
    "browser = webdriver.Chrome()\n",
    "url = \"https://24h.pchome.com.tw/prod/DPAFA2-A900E038D\"\n",
    "browser.get(url)\n",
    "prodPrice = browser.find_elements(By.CLASS_NAME, \"o-prodPrice__price\")\n",
    "\n",
    "for price_pc in prodPrice:\n",
    "    #print(price_pc.text)\n",
    "    price_pc = price_pc.text\n",
    "    price_pc = price_pc.replace(\"$\",\"\")\n",
    "    price_pc = price_pc.replace(\",\",\"\")\n",
    "new.append(int(price_pc))\n",
    "print(price_pc) #印出抓到的價錢\n",
    "browser.quit()"
   ]
  },
  {
   "cell_type": "code",
   "execution_count": 49,
   "metadata": {},
   "outputs": [
    {
     "name": "stdout",
     "output_type": "stream",
     "text": [
      "[54551, 54552, 55791]\n"
     ]
    }
   ],
   "source": [
    "print(new) #印出三個平台的價錢"
   ]
  },
  {
   "cell_type": "code",
   "execution_count": 50,
   "metadata": {},
   "outputs": [
    {
     "name": "stdout",
     "output_type": "stream",
     "text": [
      "2023-06-13 12:25:29\n",
      "['2023-06-13 12:25:29', 54551, 54552, 55791]\n"
     ]
    }
   ],
   "source": [
    "# 取得執行時間\n",
    "from datetime import datetime\n",
    "currentDateAndTime = datetime.now()\n",
    "currentTime = currentDateAndTime.strftime(\"%Y-%m-%d %H:%M:%S\")\n",
    "print(currentTime)\n",
    "new.insert(0,currentTime) #['2023-06-10 23:19:06', 65160, 55350, 70760]\n",
    "print(new) # 完整的一筆資料(date,momo,yahoo,pchome)"
   ]
  },
  {
   "cell_type": "code",
   "execution_count": 51,
   "metadata": {},
   "outputs": [
    {
     "data": {
      "text/plain": [
       "''"
      ]
     },
     "execution_count": 51,
     "metadata": {},
     "output_type": "execute_result"
    }
   ],
   "source": [
    "# ========= 建立excel工作簿 注意:此步驟執行過一次即可!=============\n",
    "'''\n",
    "import openpyxl\n",
    "nwb = openpyxl.Workbook()\n",
    "nwb.create_sheet(\"price_tk\", 0) \n",
    "price_tk = nwb.worksheets[0] #將工作表名稱取為price_tk，並插入title\n",
    "price_tk.append([\"time\",\"momo\",\"yahoo\",\"pchome\",\"momo與前一天的價差\",\"yahoo與前一天的價差\",\"pchome與前一天的價差\"])\n",
    "nwb.save(\"track.xlsx\")\n",
    "'''"
   ]
  },
  {
   "cell_type": "code",
   "execution_count": 54,
   "metadata": {},
   "outputs": [
    {
     "name": "stdout",
     "output_type": "stream",
     "text": [
      "momo今日價與昨日價價差為: 0 元\n",
      "yahoo今日價與昨日價價差為: 0 元\n",
      "pchome今日價與昨日價價差為: 0 元\n"
     ]
    }
   ],
   "source": [
    "# ========= 再次load 已建立好的工作簿 ============================\n",
    "import openpyxl\n",
    "wb_tracking = openpyxl.load_workbook(\"track.xlsx\") \n",
    "price_tk = wb_tracking.worksheets[0]\n",
    "\n",
    "# ========= 新增資料 & 計算價錢變化 ============================\n",
    "if price_tk.cell(row=2,column=1).value == None: #如果還沒有第一筆資料就新增\n",
    "    for i in range(len(new)):\n",
    "        price_tk.cell(row=2,column=i+1).value = new[i]\n",
    "\n",
    "else: #如果已經有資料就向下插入一筆新的資料，然後計算價錢變化\n",
    "    price_tk.append(new)\n",
    "    change_momo = price_tk.cell(row=price_tk.max_row,column=2).value - price_tk.cell(row=price_tk.max_row-1,column=2).value\n",
    "    price_tk.cell(row=price_tk.max_row,column=5).value = change_momo \n",
    "    print(\"momo今日價與昨日價價差為:\",change_momo,\"元\")\n",
    "\n",
    "    change_yahoo = price_tk.cell(row=price_tk.max_row,column=3).value - price_tk.cell(row=price_tk.max_row-1,column=3).value\n",
    "    price_tk.cell(row=price_tk.max_row,column=6).value = change_yahoo \n",
    "    print(\"yahoo今日價與昨日價價差為:\",change_yahoo,\"元\")\n",
    "\n",
    "    change_pchome = price_tk.cell(row=price_tk.max_row,column=4).value - price_tk.cell(row=price_tk.max_row-1,column=4).value\n",
    "    price_tk.cell(row=price_tk.max_row,column=7).value = change_pchome\n",
    "    print(\"pchome今日價與昨日價價差為:\",change_pchome,\"元\")\n",
    "\n",
    "wb_tracking.save(\"track.xlsx\")"
   ]
  },
  {
   "cell_type": "code",
   "execution_count": 55,
   "metadata": {},
   "outputs": [
    {
     "name": "stdout",
     "output_type": "stream",
     "text": [
      "2\n",
      "[1, 2]\n"
     ]
    }
   ],
   "source": [
    "# ============資料視覺化===========\n",
    "\n",
    "import matplotlib.pyplot as plt\n",
    "\n",
    "wb = openpyxl.load_workbook(\"track.xlsx\") \n",
    "ws = wb.worksheets[0] \n",
    "\n",
    "x = [] #紀錄共經過幾天\n",
    "date = ws.max_row-1 #-1:去掉title\n",
    "print(date) #目前有幾筆資料\n",
    "for i in range(date):\n",
    "    x.append(i+1)\n",
    "print(x)"
   ]
  },
  {
   "cell_type": "code",
   "execution_count": 56,
   "metadata": {},
   "outputs": [
    {
     "name": "stdout",
     "output_type": "stream",
     "text": [
      "[54551, 54551]\n",
      "[54552, 54552]\n",
      "[55791, 55791]\n"
     ]
    }
   ],
   "source": [
    "momo = [] #y軸:存放momo每日的價錢\n",
    "yahoo = []\n",
    "pchome = []\n",
    "for i in range(ws.max_row):\n",
    "    momo.append(ws.cell(row=i+1,column=2).value)\n",
    "    yahoo.append(ws.cell(row=i+1,column=3).value)\n",
    "    pchome.append(ws.cell(row=i+1,column=4).value)\n",
    "\n",
    "momo = momo[1:] #把title拿掉\n",
    "yahoo = yahoo[1:]\n",
    "pchome = pchome[1:]\n",
    "print(momo) \n",
    "print(yahoo)\n",
    "print(pchome)"
   ]
  },
  {
   "cell_type": "code",
   "execution_count": 57,
   "metadata": {},
   "outputs": [
    {
     "data": {
      "image/png": "[encoded data removed]",
      "text/plain": [
       "<Figure size 432x288 with 1 Axes>"
      ]
     },
     "metadata": {
      "needs_background": "light"
     },
     "output_type": "display_data"
    }
   ],
   "source": [
    "# 繪製圖表:momo\n",
    "plt.plot(x, momo, color='red')\n",
    "plt.xlabel('date') # 設定 x 軸標題\n",
    "plt.ylabel('price') # 設定 y 軸標題\n",
    "plt.title('momo')\n",
    "ax = plt.gca() # 把天數去掉小數\n",
    "ax.get_xaxis().set_major_locator(plt.MaxNLocator(integer=True))\n",
    "plt.show()"
   ]
  },
  {
   "cell_type": "code",
   "execution_count": 58,
   "metadata": {},
   "outputs": [
    {
     "data": {
      "image/png": "[encoded data removed]",
      "text/plain": [
       "<Figure size 432x288 with 1 Axes>"
      ]
     },
     "metadata": {
      "needs_background": "light"
     },
     "output_type": "display_data"
    }
   ],
   "source": [
    "plt.plot(x, yahoo, color='blue')\n",
    "plt.title('yahoo')\n",
    "plt.xlabel('date') # 設定 x 軸標題\n",
    "plt.ylabel('price') # 設定 y 軸標題\n",
    "\n",
    "ax = plt.gca() # 把天數去掉小數\n",
    "ax.get_xaxis().set_major_locator(plt.MaxNLocator(integer=True))\n",
    "plt.show()"
   ]
  },
  {
   "cell_type": "code",
   "execution_count": 59,
   "metadata": {},
   "outputs": [
    {
     "data": {
      "image/png": "[encoded data removed]",
      "text/plain": [
       "<Figure size 432x288 with 1 Axes>"
      ]
     },
     "metadata": {
      "needs_background": "light"
     },
     "output_type": "display_data"
    }
   ],
   "source": [
    "plt.plot(x, pchome, color='green')\n",
    "plt.xlabel('date') # 設定 x 軸標題\n",
    "plt.ylabel('price') # 設定 y 軸標題\n",
    "plt.title('pchome')\n",
    "ax = plt.gca() # 把天數去掉小數\n",
    "ax.get_xaxis().set_major_locator(plt.MaxNLocator(integer=True))\n",
    "plt.show()"
   ]
  },
  {
   "cell_type": "code",
   "execution_count": null,
   "metadata": {},
   "outputs": [],
   "source": []
  }
 ],
 "metadata": {
  "kernelspec": {
   "display_name": "Python 3",
   "language": "python",
   "name": "python3"
  },
  "language_info": {
   "codemirror_mode": {
    "name": "ipython",
    "version": 3
   },
   "file_extension": ".py",
   "mimetype": "text/x-python",
   "name": "python",
   "nbconvert_exporter": "python",
   "pygments_lexer": "ipython3",
   "version": "3.8.5"
  }
 },
 "nbformat": 4,
 "nbformat_minor": 5
}
